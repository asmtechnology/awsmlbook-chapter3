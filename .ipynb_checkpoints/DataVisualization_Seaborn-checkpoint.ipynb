{
 "cells": [
  {
   "cell_type": "markdown",
   "metadata": {},
   "source": [
    "# basic plotting with matplotlib"
   ]
  },
  {
   "cell_type": "code",
   "execution_count": 1,
   "metadata": {},
   "outputs": [],
   "source": [
    "import numpy as np\n",
    "import pandas as pd\n",
    "\n",
    "# prepare x values \n",
    "x = np.linspace(1, 7, 10)\n",
    "\n",
    "# prepare y1 and y2\n",
    "y1 = 4*x*x + 2*x + 2\n",
    "y2 = 3*x + 4"
   ]
  },
  {
   "cell_type": "code",
   "execution_count": null,
   "metadata": {},
   "outputs": [],
   "source": [
    "# \n",
    "# plot with matplotlib\n",
    "#\n",
    "%matplotlib inline\n",
    "import matplotlib.pyplot as plt\n",
    "import matplotlib as mpl\n",
    "import seaborn as sns\n",
    "\n",
    "# create a new figure\n",
    "plt.figure(figsize=(7,7))\n",
    "\n",
    "# plot y1 = 4*x*x + 2*x + 2\n",
    "plt.plot(x, y1)\n",
    "\n",
    "#y2 = 3*x + 4\n",
    "plt.plot(x, y2)\n",
    "\n",
    "# set up axis labels\n",
    "plt.xlabel('X values')\n",
    "plt.ylabel('Y values')\n"
   ]
  },
  {
   "cell_type": "code",
   "execution_count": null,
   "metadata": {},
   "outputs": [],
   "source": [
    "# \n",
    "# plot with seaborn\n",
    "#\n",
    "\n",
    "\n",
    "# create a dataframe out of (x, y1)\n",
    "df1 = pd.DataFrame({'x': x, 'y1': y1, 'y2': y2})\n",
    "\n",
    "# set default seaborn styling\n",
    "sns.set()\n",
    "\n",
    "# create a new figure\n",
    "plt.figure(figsize=(7,7))\n",
    "\n",
    "sns.lineplot(data=df1)\n"
   ]
  },
  {
   "cell_type": "markdown",
   "metadata": {},
   "source": [
    "# components of a plot."
   ]
  },
  {
   "cell_type": "code",
   "execution_count": 3,
   "metadata": {},
   "outputs": [
    {
     "data": {
      "image/png": "[encoded data removed]",
      "text/plain": [
       "<Figure size 360x216 with 1 Axes>"
      ]
     },
     "metadata": {},
     "output_type": "display_data"
    }
   ],
   "source": [
    "%matplotlib inline\n",
    "import matplotlib.pyplot as plt\n",
    "import matplotlib as mpl\n",
    "\n",
    "figure1 = plt.figure(figsize=(5,3))\n",
    "figure1.suptitle('Figure Title')\n",
    "figure1.set_facecolor('#c3badc')\n",
    "\n",
    "# plot y1 = 4*x*x + 2*x + 2\n",
    "plt.plot(x, y1)\n",
    "\n",
    "plt.show()"
   ]
  },
  {
   "cell_type": "code",
   "execution_count": null,
   "metadata": {},
   "outputs": [],
   "source": [
    "figure, axes  = plt.subplots(figsize=(7,7))\n",
    "\n",
    "figure.set_facecolor('#c3badc')\n",
    "figure.suptitle('Figure Title')\n",
    "\n",
    "axes.set_title('Axes Title')\n",
    "axes.set_facecolor('#f0f8b7')\n",
    "axes.set_xlabel('Var1')\n",
    "axes.set_ylabel('Var2')\n"
   ]
  },
  {
   "cell_type": "code",
   "execution_count": null,
   "metadata": {},
   "outputs": [],
   "source": [
    "# create a figure with a 2 x 2 grid of axes objects\n",
    "figure, axes_list  = plt.subplots(2,2, figsize=(9,9))\n",
    "\n",
    "# title for the figure object\n",
    "figure.suptitle('This is the title of the figure')  \n",
    "\n",
    "# title for each axes\n",
    "axes_list[0,0].set_title('Subplot 0')\n",
    "axes_list[0,1].set_title('Subplot 1')\n",
    "axes_list[1,0].set_title('Subplot 2')\n",
    "axes_list[1,1].set_title('Subplot 3')\n"
   ]
  },
  {
   "cell_type": "code",
   "execution_count": null,
   "metadata": {},
   "outputs": [],
   "source": [
    "import numpy as np\n",
    "import pandas as pd\n",
    "\n",
    "# load the contents of a file into a pandas Dataframe\n",
    "input_file = './datasets/titanic_dataset/original/train.csv'\n",
    "df_titanic = pd.read_csv(input_file)"
   ]
  },
  {
   "cell_type": "code",
   "execution_count": null,
   "metadata": {},
   "outputs": [],
   "source": []
  }
 ],
 "metadata": {
  "kernelspec": {
   "display_name": "Python (AWS_ML_Book)",
   "language": "python",
   "name": "aws_ml_book"
  },
  "language_info": {
   "codemirror_mode": {
    "name": "ipython",
    "version": 3
   },
   "file_extension": ".py",
   "mimetype": "text/x-python",
   "name": "python",
   "nbconvert_exporter": "python",
   "pygments_lexer": "ipython3",
   "version": "3.6.8"
  }
 },
 "nbformat": 4,
 "nbformat_minor": 2
}
